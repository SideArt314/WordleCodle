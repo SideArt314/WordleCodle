{
 "cells": [
  {
   "cell_type": "code",
   "execution_count": 17,
   "metadata": {},
   "outputs": [],
   "source": [
    "import numpy as np\n",
    "import random\n",
    "import string\n",
    "import matplotlib.pyplot as plt\n"
   ]
  },
  {
   "cell_type": "code",
   "execution_count": 18,
   "metadata": {},
   "outputs": [],
   "source": [
    "with open(\"allowed_words.txt\") as file:\n",
    "    allowed_words = [line.rstrip() for line in file]"
   ]
  },
  {
   "cell_type": "code",
   "execution_count": 19,
   "metadata": {},
   "outputs": [
    {
     "data": {
      "text/plain": [
       "12972"
      ]
     },
     "execution_count": 19,
     "metadata": {},
     "output_type": "execute_result"
    }
   ],
   "source": [
    "len(allowed_words)"
   ]
  },
  {
   "cell_type": "code",
   "execution_count": 20,
   "metadata": {},
   "outputs": [
    {
     "name": "stdout",
     "output_type": "stream",
     "text": [
      "sones\n",
      "abcdefghijklmnopqrstuvwxyz\n"
     ]
    }
   ],
   "source": [
    "#make a game so that we can play it\n",
    "\n",
    "#the secret search word\n",
    "secret = random.choice(allowed_words)\n",
    "\n",
    "print(secret)\n",
    "\n",
    "print(string.ascii_lowercase)"
   ]
  },
  {
   "cell_type": "code",
   "execution_count": 21,
   "metadata": {},
   "outputs": [
    {
     "name": "stdout",
     "output_type": "stream",
     "text": [
      "{'a': 0.09235275979031761, 'b': 0.025084798026518657, 'c': 0.03126734505087882, 'd': 0.03781991982732038, 'e': 0.10271353684859698, 'f': 0.017190872648781993, 'g': 0.025346901017576317, 'h': 0.027135368485969782, 'i': 0.05795559666975023, 'j': 0.004486586493987049, 'k': 0.02320382362010484, 'l': 0.051973481344434164, 'm': 0.030465618254702436, 'n': 0.04551341350601295, 'o': 0.06842429848905335, 'p': 0.031128584643848288, 'q': 0.0017267961763798951, 'r': 0.0641073080481036, 's': 0.10275979031760715, 't': 0.05080172679617638, 'u': 0.03871415356151711, 'v': 0.010699969164353992, 'w': 0.016019118100524206, 'x': 0.004440333024976873, 'y': 0.031976564909034846, 'z': 0.006691335183472094}\n"
     ]
    }
   ],
   "source": [
    "freq_dict = {}\n",
    "\n",
    "for letter in string.ascii_lowercase:\n",
    "   ctr = 0\n",
    "   for word in allowed_words:\n",
    "      ctr += word.count(letter)\n",
    "   f = ctr/(5*12972)\n",
    "   freq_dict[letter] = f\n",
    "\n",
    "print(freq_dict)\n"
   ]
  },
  {
   "cell_type": "code",
   "execution_count": 23,
   "metadata": {},
   "outputs": [
    {
     "data": {
      "image/png": "[encoded data removed]",
      "text/plain": [
       "<Figure size 432x288 with 1 Axes>"
      ]
     },
     "metadata": {
      "needs_background": "light"
     },
     "output_type": "display_data"
    }
   ],
   "source": [
    "plt.bar(range(len(freq_dict)), list(freq_dict.values()), align='center')\n",
    "plt.xticks(range(len(freq_dict)), list(freq_dict.keys()))\n",
    "plt.show()"
   ]
  },
  {
   "cell_type": "code",
   "execution_count": null,
   "metadata": {},
   "outputs": [],
   "source": []
  }
 ],
 "metadata": {
  "interpreter": {
   "hash": "dc47b05121de45b39106ab846166b94817097143ce14958af71bd32b3e781131"
  },
  "kernelspec": {
   "display_name": "Python 3.9.6 64-bit ('base': conda)",
   "name": "python3"
  },
  "language_info": {
   "codemirror_mode": {
    "name": "ipython",
    "version": 3
   },
   "file_extension": ".py",
   "mimetype": "text/x-python",
   "name": "python",
   "nbconvert_exporter": "python",
   "pygments_lexer": "ipython3",
   "version": "3.9.7"
  },
  "orig_nbformat": 4
 },
 "nbformat": 4,
 "nbformat_minor": 2
}
