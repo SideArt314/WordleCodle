{
 "cells": [
  {
   "cell_type": "code",
   "execution_count": 82,
   "metadata": {},
   "outputs": [],
   "source": [
    "import numpy as np\n",
    "import random\n",
    "import string\n",
    "import matplotlib.pyplot as plt\n",
    "import itertools"
   ]
  },
  {
   "cell_type": "code",
   "execution_count": 83,
   "metadata": {},
   "outputs": [],
   "source": [
    "with open(\"allowed_words.txt\") as file:\n",
    "    allowed_words = [line.rstrip() for line in file]"
   ]
  },
  {
   "cell_type": "code",
   "execution_count": 84,
   "metadata": {},
   "outputs": [
    {
     "name": "stdout",
     "output_type": "stream",
     "text": [
      "diffs\n"
     ]
    }
   ],
   "source": [
    "#the secret search word\n",
    "#assume that the search word is from the list, this way we can switch the list out for a bigger list\n",
    "secret = random.choice(allowed_words)\n",
    "print(secret)"
   ]
  },
  {
   "cell_type": "code",
   "execution_count": 85,
   "metadata": {},
   "outputs": [],
   "source": [
    "#the game itself, have not coded number of tries\n",
    "\n",
    "def wordle(guess: string):\n",
    "    response = {'black': [], 'yellow': [], 'green': []}\n",
    "    if guess in allowed_words:\n",
    "        for i in range(5):\n",
    "            if guess[i] == secret[i]:\n",
    "                response['green'].append(i)\n",
    "            elif guess[i] in secret:\n",
    "                response['yellow'].append(i)\n",
    "            else:\n",
    "                response['black'].append(i)\n",
    "    else:\n",
    "        print(\"not a valid word\")\n",
    "\n",
    "    #print the responses, v nice\n",
    "    #print(response)\n",
    "    return response"
   ]
  },
  {
   "cell_type": "code",
   "execution_count": 86,
   "metadata": {},
   "outputs": [],
   "source": [
    "#naive attempt begins here. Here, I dont even care about frequencies, I just pick a word at random and then reduce list and then repeat.\n",
    "#returns number of attempts\n",
    "\n",
    "\n",
    "def naive():\n",
    "    ctr = 0 \n",
    "\n",
    "    word_list = allowed_words.copy()\n",
    "    alphabet = string.ascii_lowercase\n",
    "\n",
    "    while True:\n",
    "        ctr += 1\n",
    "\n",
    "        guess = random.choice(word_list)\n",
    "        response = wordle(guess)\n",
    "        for word in word_list:\n",
    "            remove = False\n",
    "            for i in response['black']:                             #removes the words and the letters if black\n",
    "                if guess[i] in word:\n",
    "                    remove = True\n",
    "                    alphabet.replace(guess[i], '')\n",
    "            for i in response['yellow']:                            #removes just the words which don't have the letter in the correct place as well as which dont have the letter at all\n",
    "                if (guess[i] == word[i] or not(guess[i] in word)) :\n",
    "                    remove = True\n",
    "            for i in response['green']:\n",
    "                if guess[i] != word[i]:\n",
    "                    remove = True\n",
    "            if remove:\n",
    "                word_list.remove(word)\n",
    "        if guess == secret:\n",
    "            print(\"game over\")\n",
    "            break\n",
    "    \n",
    "    return ctr"
   ]
  },
  {
   "cell_type": "code",
   "execution_count": 87,
   "metadata": {},
   "outputs": [
    {
     "name": "stdout",
     "output_type": "stream",
     "text": [
      "game over\n",
      "game over\n",
      "game over\n",
      "game over\n",
      "game over\n",
      "game over\n",
      "game over\n",
      "game over\n",
      "game over\n",
      "game over\n",
      "15.6\n"
     ]
    }
   ],
   "source": [
    "#average performance of naive over 10,000 trials \n",
    "\n",
    "n = 10\n",
    "sum = 0\n",
    "for i in range(n):\n",
    "    ctr = naive()\n",
    "    sum += ctr\n",
    "\n",
    "mean = sum/n\n",
    "\n",
    "print(mean)"
   ]
  },
  {
   "cell_type": "code",
   "execution_count": 88,
   "metadata": {},
   "outputs": [],
   "source": [
    "#frequency of letters throughout 'allowed_words'\n",
    "def freq_dict(alphabet, word_list):\n",
    "   freq = {}\n",
    "\n",
    "   for letter in alphabet:\n",
    "      ctr = 0\n",
    "      for word in word_list:\n",
    "         ctr += word.count(letter)\n",
    "      f = ctr/(5*len(word_list))\n",
    "      freq[letter] = f\n",
    "\n",
    "   return dict(sorted(freq.items(), key=lambda item: item[1], reverse = True))\n",
    "\n",
    "def plot(freq):\n",
    "   plt.bar(range(len(freq)), list(freq.values()), align='center')\n",
    "   plt.xticks(range(len(freq)), list(freq.keys()))\n",
    "   plt.show()"
   ]
  },
  {
   "cell_type": "code",
   "execution_count": 89,
   "metadata": {},
   "outputs": [
    {
     "data": {
      "image/png": "[encoded data removed]",
      "text/plain": [
       "<Figure size 432x288 with 1 Axes>"
      ]
     },
     "metadata": {
      "needs_background": "light"
     },
     "output_type": "display_data"
    }
   ],
   "source": [
    "freq = freq_dict(string.ascii_lowercase, allowed_words)\n",
    "\n",
    "plot(freq)"
   ]
  },
  {
   "cell_type": "code",
   "execution_count": 90,
   "metadata": {},
   "outputs": [],
   "source": [
    "#Naive 2.0. This time, I want to use the frequencies of letters over the words to make an educated guess. Let's see how it goes.\n",
    "# I haven't included letter repetition within word. Each guess is just a random one within the subset of the words from the top frequent word\n",
    "\n",
    "\n",
    "#EDIT: THIS FUNCTION DOES JACK SHIT, USELESS PIECE OF SHIT FUCKIN INEFFECIENT BASTARD\n",
    "\n",
    "\n",
    "def not_naive(freq_parameter):\n",
    "    ctr = 0\n",
    "\n",
    "    word_list = allowed_words.copy()\n",
    "    alphabet = string.ascii_lowercase\n",
    "\n",
    "\n",
    "    while True:\n",
    "        ctr += 1\n",
    "\n",
    "        #choosing 10 as arbitrary point to select most frequent\n",
    "    #looking at words containing most frequent letters\n",
    "\n",
    "        alphabet_freq = freq_dict(alphabet, word_list)\n",
    "        freq_letters = ''.join({x for x in dict(itertools.islice(alphabet_freq.items(), min(freq_parameter, len(alphabet)))).keys()})\n",
    "        truncated_word_list = word_list.copy()\n",
    "        for word in truncated_word_list:\n",
    "            for letter in word:\n",
    "                if not(letter in freq_letters):\n",
    "                    truncated_word_list.remove(word)\n",
    "                    break\n",
    "        if len(truncated_word_list)>0:\n",
    "            guess = random.choice(truncated_word_list)\n",
    "        else:\n",
    "            guess = random.choice(word_list)\n",
    "        \n",
    "        \n",
    "        response = wordle(guess)\n",
    "        for word in word_list:\n",
    "            remove = False\n",
    "            for i in response['black']:                             #removes the words and the letters if black\n",
    "                if guess[i] in word:\n",
    "                    remove = True\n",
    "                    alphabet.replace(guess[i], '')\n",
    "            for i in response['yellow']:                            #removes just the words which don't have the letter in the correct place as well as which dont have the letter at all\n",
    "                if (guess[i] == word[i] or not(guess[i] in word)) :\n",
    "                    remove = True\n",
    "            for i in response['green']:\n",
    "                if guess[i] != word[i]:\n",
    "                    remove = True\n",
    "            if remove:\n",
    "                word_list.remove(word)\n",
    "        if guess == secret:\n",
    "            break\n",
    "\n",
    "    return ctr"
   ]
  },
  {
   "cell_type": "code",
   "execution_count": 91,
   "metadata": {},
   "outputs": [
    {
     "name": "stdout",
     "output_type": "stream",
     "text": [
      "[16.8, 15.6, 16.2, 15.2, 15.0, 14.2, 13.0, 15.4, 13.2, 15.4, 15.2, 13.8, 14.6, 14.0, 16.4, 15.8, 14.8, 13.2, 16.6, 12.8, 13.8, 15.2, 15.6, 16.8, 15.4]\n"
     ]
    }
   ],
   "source": [
    "#testing for best cutoff parameter over n tries\n",
    "\n",
    "n = 5\n",
    "average_truncation = []\n",
    "for k in range(1, 26):\n",
    "    sum = 0\n",
    "    for i in range(n):\n",
    "        sum += not_naive(k)\n",
    "    sum = sum/n\n",
    "    average_truncation.append(sum)\n",
    "\n",
    "print(average_truncation)"
   ]
  },
  {
   "cell_type": "code",
   "execution_count": null,
   "metadata": {},
   "outputs": [],
   "source": []
  }
 ],
 "metadata": {
  "interpreter": {
   "hash": "dc47b05121de45b39106ab846166b94817097143ce14958af71bd32b3e781131"
  },
  "kernelspec": {
   "display_name": "Python 3.9.6 64-bit ('base': conda)",
   "name": "python3"
  },
  "language_info": {
   "codemirror_mode": {
    "name": "ipython",
    "version": 3
   },
   "file_extension": ".py",
   "mimetype": "text/x-python",
   "name": "python",
   "nbconvert_exporter": "python",
   "pygments_lexer": "ipython3",
   "version": "3.9.7"
  },
  "orig_nbformat": 4
 },
 "nbformat": 4,
 "nbformat_minor": 2
}
