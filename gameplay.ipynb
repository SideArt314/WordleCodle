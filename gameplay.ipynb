{
 "cells": [
  {
   "cell_type": "code",
   "execution_count": 9,
   "metadata": {},
   "outputs": [],
   "source": [
    "import numpy as np\n",
    "import random\n",
    "import string\n",
    "import matplotlib.pyplot as plt"
   ]
  },
  {
   "cell_type": "code",
   "execution_count": 10,
   "metadata": {},
   "outputs": [],
   "source": [
    "with open(\"allowed_words.txt\") as file:\n",
    "    allowed_words = [line.rstrip() for line in file]"
   ]
  },
  {
   "cell_type": "code",
   "execution_count": 11,
   "metadata": {},
   "outputs": [],
   "source": [
    "#frequency of letters throughout 'allowed_words'\n",
    "def freq_dict(alphabet, word_list):\n",
    "   freq = {}\n",
    "\n",
    "   for letter in alphabet:\n",
    "      ctr = 0\n",
    "      for word in word_list:\n",
    "         ctr += word.count(letter)\n",
    "      f = ctr/(5*len(word_list))\n",
    "      freq[letter] = f\n",
    "\n",
    "   plt.bar(range(len(freq)), list(freq.values()), align='center')\n",
    "   plt.xticks(range(len(freq)), list(freq.keys()))\n",
    "   plt.show()\n",
    "\n",
    "   return freq\n",
    "\n"
   ]
  },
  {
   "cell_type": "code",
   "execution_count": 12,
   "metadata": {},
   "outputs": [
    {
     "data": {
      "image/png": "[encoded data removed]",
      "text/plain": [
       "<Figure size 432x288 with 1 Axes>"
      ]
     },
     "metadata": {
      "needs_background": "light"
     },
     "output_type": "display_data"
    }
   ],
   "source": [
    "freq = freq_dict(string.ascii_lowercase, allowed_words)"
   ]
  },
  {
   "cell_type": "code",
   "execution_count": 13,
   "metadata": {},
   "outputs": [
    {
     "name": "stdout",
     "output_type": "stream",
     "text": [
      "ictic\n"
     ]
    }
   ],
   "source": [
    "#the secret search word\n",
    "#assume that the search word is from the list, this way we can switch the list out for a bigger list\n",
    "secret = random.choice(allowed_words)\n",
    "print(secret)"
   ]
  },
  {
   "cell_type": "code",
   "execution_count": 14,
   "metadata": {},
   "outputs": [],
   "source": [
    "#the game itself, have not coded number of tries\n",
    "\n",
    "def wordle(guess: string):\n",
    "    response = {'black': [], 'yellow': [], 'green': []}\n",
    "    if guess in allowed_words:\n",
    "        for i in range(5):\n",
    "            if guess[i] == secret[i]:\n",
    "                response['green'].append(i)\n",
    "            elif guess[i] in secret:\n",
    "                response['yellow'].append(i)\n",
    "            else:\n",
    "                response['black'].append(i)\n",
    "    else:\n",
    "        print(\"not a valid word\")\n",
    "\n",
    "    #print the responses, v nice\n",
    "    #print(response)\n",
    "    return response"
   ]
  },
  {
   "cell_type": "code",
   "execution_count": 15,
   "metadata": {},
   "outputs": [],
   "source": [
    "#naive attempt begins here. Here, I dont even care about frequencies, I just pick a word at random and then reduce list and then repeat.\n",
    "#returns number of attempts\n",
    "\n",
    "\n",
    "def naive():\n",
    "    ctr = 0 \n",
    "\n",
    "    word_list = allowed_words.copy()\n",
    "    alphabet = string.ascii_lowercase\n",
    "\n",
    "    while True:\n",
    "        ctr += 1\n",
    "\n",
    "        guess = random.choice(word_list)\n",
    "        response = wordle(guess)\n",
    "        for word in word_list:\n",
    "            remove = False\n",
    "            for i in response['black']:\n",
    "                if guess[i] in word:\n",
    "                    remove = True\n",
    "                    alphabet.replace(guess[i], '')\n",
    "            for i in response['yellow']:\n",
    "                if guess[i] == word[i]:\n",
    "                    remove = True\n",
    "            for i in response['green']:\n",
    "                if guess[i] != word[i]:\n",
    "                    remove = True\n",
    "            if remove:\n",
    "                word_list.remove(word)\n",
    "        if guess == secret:\n",
    "            print(\"game over\")\n",
    "            break\n",
    "    \n",
    "    return ctr"
   ]
  },
  {
   "cell_type": "code",
   "execution_count": 16,
   "metadata": {},
   "outputs": [
    {
     "name": "stdout",
     "output_type": "stream",
     "text": [
      "game over\n",
      "game over\n",
      "game over\n",
      "game over\n",
      "game over\n",
      "game over\n",
      "game over\n",
      "game over\n",
      "game over\n",
      "game over\n",
      "game over\n",
      "game over\n",
      "game over\n",
      "game over\n",
      "game over\n",
      "game over\n",
      "game over\n",
      "game over\n",
      "game over\n",
      "game over\n",
      "game over\n",
      "game over\n",
      "game over\n",
      "game over\n",
      "game over\n",
      "game over\n",
      "game over\n",
      "game over\n",
      "game over\n",
      "game over\n",
      "game over\n",
      "game over\n",
      "game over\n",
      "game over\n",
      "game over\n",
      "game over\n",
      "game over\n",
      "game over\n",
      "game over\n",
      "game over\n",
      "game over\n",
      "game over\n",
      "game over\n",
      "game over\n",
      "game over\n",
      "game over\n",
      "game over\n",
      "game over\n",
      "game over\n",
      "game over\n",
      "game over\n",
      "game over\n",
      "game over\n",
      "game over\n",
      "game over\n",
      "game over\n",
      "game over\n",
      "game over\n",
      "game over\n",
      "game over\n",
      "game over\n",
      "game over\n",
      "game over\n",
      "game over\n",
      "game over\n",
      "game over\n",
      "game over\n",
      "game over\n",
      "game over\n",
      "game over\n",
      "game over\n",
      "game over\n",
      "game over\n",
      "game over\n",
      "game over\n",
      "game over\n",
      "game over\n",
      "game over\n",
      "game over\n",
      "game over\n",
      "game over\n",
      "game over\n",
      "game over\n",
      "game over\n",
      "game over\n",
      "game over\n",
      "game over\n",
      "game over\n",
      "game over\n",
      "game over\n",
      "game over\n",
      "game over\n",
      "game over\n",
      "game over\n",
      "game over\n",
      "game over\n",
      "game over\n",
      "game over\n",
      "game over\n",
      "game over\n",
      "16.57\n"
     ]
    }
   ],
   "source": [
    "#average performance of naive over 10,000 trials \n",
    "\n",
    "n = 100\n",
    "sum = 0\n",
    "for i in range(n):\n",
    "    ctr = naive()\n",
    "    sum += ctr\n",
    "\n",
    "mean = sum/n\n",
    "\n",
    "print(mean)"
   ]
  },
  {
   "cell_type": "code",
   "execution_count": null,
   "metadata": {},
   "outputs": [],
   "source": []
  }
 ],
 "metadata": {
  "interpreter": {
   "hash": "dc47b05121de45b39106ab846166b94817097143ce14958af71bd32b3e781131"
  },
  "kernelspec": {
   "display_name": "Python 3.9.6 64-bit ('base': conda)",
   "name": "python3"
  },
  "language_info": {
   "codemirror_mode": {
    "name": "ipython",
    "version": 3
   },
   "file_extension": ".py",
   "mimetype": "text/x-python",
   "name": "python",
   "nbconvert_exporter": "python",
   "pygments_lexer": "ipython3",
   "version": "3.9.7"
  },
  "orig_nbformat": 4
 },
 "nbformat": 4,
 "nbformat_minor": 2
}
